{
 "cells": [
  {
   "cell_type": "code",
   "execution_count": 1,
   "id": "403ddfcb-6126-4c6a-bd35-14e96275a00f",
   "metadata": {},
   "outputs": [
    {
     "name": "stderr",
     "output_type": "stream",
     "text": [
      "/home/jeff/anaconda3/envs/mnist/lib/python3.10/site-packages/tqdm/auto.py:21: TqdmWarning: IProgress not found. Please update jupyter and ipywidgets. See https://ipywidgets.readthedocs.io/en/stable/user_install.html\n",
      "  from .autonotebook import tqdm as notebook_tqdm\n"
     ]
    }
   ],
   "source": [
    "import pprint\n",
    "import torch"
   ]
  },
  {
   "cell_type": "code",
   "execution_count": 2,
   "id": "bdd30efa-e20c-4d7b-98e1-ff7979875382",
   "metadata": {},
   "outputs": [],
   "source": [
    "with open('wandb/latest-run/files/epoch-009.validation_loss-0.65219.ckpt', 'rb') as f:\n",
    "    d = torch.load(f)"
   ]
  },
  {
   "cell_type": "code",
   "execution_count": 3,
   "id": "2c91a0b9-66a1-461f-88df-0c84cdb2dc67",
   "metadata": {
    "tags": []
   },
   "outputs": [
    {
     "name": "stdout",
     "output_type": "stream",
     "text": [
      "{ 'callbacks': {...},\n",
      "  'epoch': 9,\n",
      "  'global_step': 80,\n",
      "  'hparams_name': 'kwargs',\n",
      "  'hyper_parameters': {...},\n",
      "  'loops': {...},\n",
      "  'lr_schedulers': [],\n",
      "  'optimizer_states': [...],\n",
      "  'pytorch-lightning_version': '1.9.4',\n",
      "  'state_dict': OrderedDict([...])}\n"
     ]
    }
   ],
   "source": [
    "pprint.pprint(d, depth=1, indent=2)"
   ]
  },
  {
   "cell_type": "code",
   "execution_count": 4,
   "id": "da753d25-d41a-4501-878c-90410e6fe8b3",
   "metadata": {
    "tags": []
   },
   "outputs": [
    {
     "name": "stdout",
     "output_type": "stream",
     "text": [
      "PK\u0003\u0004\u0000\u0000\u0000\u0000\u0000\u0000\u0000\u0000\u0000\u0000\u0000\u0000\u0000\u0000\u0000\u0000\u0000\u0000\u0010\u0000\u0012\u0000archive/data.pklFB\u000e\u0000ZZZZZZZZZZZZZZ�\u0002}q\u0000(X\u0005\u0000\u0000\u0000epochq\u0001K\tX\u000b",
      "\u0000\u0000\u0000global_stepq\u0002KPX\u0019\u0000\u0000\u0000pytorch-lightning_versionq\u0003X\u0005\u0000\u0000\u00001.9.4q\u0004X\n",
      "\u0000\u0000\u0000state_dictq\u0005ccollections\n",
      "OrderedDict\n",
      "q\u0006)Rq\u0007(X\u0010\u0000\u0000\u0000model.fc1.weightctorch._utils\n",
      "_rebuild_tensor_v2\n"
     ]
    }
   ],
   "source": [
    "!head -n5 wandb/latest-run/files/epoch-009.validation_loss-0.65219.ckpt"
   ]
  }
 ],
 "metadata": {
  "kernelspec": {
   "display_name": "Python 3 (ipykernel)",
   "language": "python",
   "name": "python3"
  },
  "language_info": {
   "codemirror_mode": {
    "name": "ipython",
    "version": 3
   },
   "file_extension": ".py",
   "mimetype": "text/x-python",
   "name": "python",
   "nbconvert_exporter": "python",
   "pygments_lexer": "ipython3",
   "version": "3.10.9"
  }
 },
 "nbformat": 4,
 "nbformat_minor": 5
}
